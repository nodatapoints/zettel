{
 "cells": [
  {
   "cell_type": "code",
   "execution_count": 2,
   "metadata": {},
   "outputs": [],
   "source": [
    "import numpy as np\n",
    "\n",
    "phi = (1 + np.sqrt(5))/2\n",
    "psi = 1 - phi"
   ]
  },
  {
   "cell_type": "code",
   "execution_count": 5,
   "metadata": {},
   "outputs": [],
   "source": [
    "mu1 = (5-np.sqrt(5))/10\n",
    "mu2 = 1 - mu1"
   ]
  },
  {
   "cell_type": "code",
   "execution_count": 15,
   "metadata": {},
   "outputs": [
    {
     "name": "stdout",
     "output_type": "stream",
     "text": [
      "1 -0 1\n",
      "2 1 0\n",
      "3 1 1\n",
      "4 2 2\n",
      "5 3 3\n",
      "6 5 5\n",
      "7 8 8\n",
      "8 13 13\n",
      "9 21 21\n"
     ]
    }
   ],
   "source": [
    "for i in range(1, 10):\n",
    "    v = mu1*phi**i + mu2*psi**i\n",
    "    w = mu1*phi**i - mu2*psi**i\n",
    "    \n",
    "    print(f'{i} {v:.0f} {w:.0f}')"
   ]
  }
 ],
 "metadata": {
  "kernelspec": {
   "display_name": "Python 3",
   "language": "python",
   "name": "python3"
  },
  "language_info": {
   "codemirror_mode": {
    "name": "ipython",
    "version": 3
   },
   "file_extension": ".py",
   "mimetype": "text/x-python",
   "name": "python",
   "nbconvert_exporter": "python",
   "pygments_lexer": "ipython3",
   "version": "3.7.1"
  }
 },
 "nbformat": 4,
 "nbformat_minor": 2
}
